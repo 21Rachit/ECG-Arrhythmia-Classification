{
 "cells": [
  {
   "cell_type": "markdown",
   "metadata": {},
   "source": [
    "# Importing the required libraries"
   ]
  },
  {
   "cell_type": "code",
   "execution_count": null,
   "metadata": {},
   "outputs": [],
   "source": [
    "import pandas as pd\n",
    "import numpy as np\n",
    "from sklearn.preprocessing import StandardScaler # to noramlize the data otherwise preprocessing will take time\n",
    "import biosppy # it contains the function to calculate the RPeaks which is very much required\n",
    "import warnings\n",
    "import matplotlib.pyplot as plt\n",
    "import cv2\n",
    "warnings.filterwarnings('ignore') # to suppress the warnings"
   ]
  },
  {
   "cell_type": "markdown",
   "metadata": {},
   "source": [
    "# Data Augmentation \n",
    "## Since the data was highly imbalaced because we have majority of normal heart beat and minority of affected or non normal heart beat so it we don't do data augmentation, the model will be biased"
   ]
  },
  {
   "cell_type": "code",
   "execution_count": 11,
   "metadata": {},
   "outputs": [],
   "source": [
    "def cropping(image, filename,ytrain,g):\n",
    "    \n",
    "    #Left Top Crop\n",
    "    crop = image[:46, :46]\n",
    "    crop = cv2.resize(crop, (64, 64))\n",
    "    cv2.imwrite(filename[:-4] + 'leftTop' + '.png', crop)\n",
    "    ytrain.append(g)\n",
    "    \n",
    "    #Center Top Crop\n",
    "    crop = image[:46, 16:50]\n",
    "    crop = cv2.resize(crop, (64, 64))\n",
    "    cv2.imwrite(filename[:-4] + 'centerTop' + '.png', crop)\n",
    "    ytrain.append(g)\n",
    "    \n",
    "    #Right Top Crop\n",
    "    crop = image[:46, 32:]\n",
    "    crop = cv2.resize(crop, (64, 64))\n",
    "    cv2.imwrite(filename[:-4] + 'rightTop' + '.png', crop)\n",
    "    ytrain.append(g)\n",
    "    \n",
    "    #Left Center Crop\n",
    "    crop = image[16:50, :50]\n",
    "    crop = cv2.resize(crop, (64, 64))\n",
    "    cv2.imwrite(filename[:-4] + 'leftCenter' + '.png', crop)\n",
    "    ytrain.append(g)\n",
    "    \n",
    "    #Center Center Crop\n",
    "    crop = image[16:50, 16:50]\n",
    "    crop = cv2.resize(crop, (64, 64))\n",
    "    cv2.imwrite(filename[:-4] + 'centerCenter' + '.png', crop)\n",
    "    ytrain.append(g)\n",
    "    \n",
    "    #Right Center Crop\n",
    "    crop = image[16:50, 32:]\n",
    "    crop = cv2.resize(crop, (64, 64))\n",
    "    cv2.imwrite(filename[:-4] + 'rightCenter' + '.png', crop)\n",
    "    ytrain.append(g)\n",
    "    \n",
    "    #Left Bottom Crop\n",
    "    crop = image[32:, :50]\n",
    "    crop = cv2.resize(crop, (64, 64))\n",
    "    cv2.imwrite(filename[:-4] + 'leftBottom' + '.png', crop)\n",
    "    ytrain.append(g)\n",
    "    \n",
    "    #Center Bottom Crop\n",
    "    crop = image[32:, 16:50]\n",
    "    crop = cv2.resize(crop, (64, 64))\n",
    "    cv2.imwrite(filename[:-4] + 'centerBottom' + '.png', crop)\n",
    "    ytrain.append(g)\n",
    "    \n",
    "    #Right Bottom Crop\n",
    "    crop = image[32:, 32:]\n",
    "    crop = cv2.resize(crop, (64, 64))\n",
    "    cv2.imwrite(filename[:-4] + 'rightBottom' + '.png', crop)\n",
    "    ytrain.append(g)"
   ]
  },
  {
   "cell_type": "markdown",
   "metadata": {},
   "source": [
    "## This is the main block where the following steps are done-->\n",
    "### 1-Reading of the csv file of the patient \n",
    "### 2-Now since the dataset was highly imbalanced, so i had to check how many minimum csv files should i concatenate so that imbalancy is minimized  and value that i got is 20(from r0 to r20)\n",
    "### After concatenating those 20 files into a single csv, use Standard Scaler to normalize the data otherwise training will take time\n",
    "### Normally i could have put this data in a machine learning model to train but let's do something different. i converted these 1D data to a 2D data(image)\n",
    "### To do the above thing, i used biosppy.signals.ecg.christov_segmenter() which helps in finding the RPeaks which helped in plotting the image\n",
    "### Once image is found i did data augmentation (to minimize imbalancy)  and saved those images to be used in the CNN model"
   ]
  },
  {
   "cell_type": "code",
   "execution_count": 12,
   "metadata": {},
   "outputs": [
    {
     "name": "stdout",
     "output_type": "stream",
     "text": [
      "100annotations.csv\n",
      "['N'] peaks are\n",
      "[   27  2205  2435  2949  3917  4413  4484  4494  4507  5954  8254 10337\n",
      " 13464 14380 15887 17352 20616 21652 23567 25592 28353 29006 31104 32747]\n",
      "2205\n",
      "1128   -0.036057\n",
      "1129   -0.034457\n",
      "1130   -0.032926\n",
      "1131   -0.031368\n",
      "1132   -0.029847\n",
      "          ...   \n",
      "76     -1.613892\n",
      "77     -1.612133\n",
      "78     -1.610447\n",
      "79     -1.608767\n",
      "80     -1.607098\n",
      "Name: Sample, Length: 1204, dtype: float64\n",
      "2435\n",
      "81    -1.605418\n",
      "82    -1.603716\n",
      "83    -1.601941\n",
      "84    -1.600186\n",
      "85    -1.598570\n",
      "         ...   \n",
      "458   -0.961275\n",
      "459   -0.959303\n",
      "460   -0.957415\n",
      "461   -0.955517\n",
      "462   -0.953635\n",
      "Name: Sample, Length: 372, dtype: float64\n",
      "2949\n",
      "463    -0.951743\n",
      "464    -0.949722\n",
      "465    -0.947681\n",
      "466    -0.945682\n",
      "467    -0.943794\n",
      "          ...   \n",
      "1201    0.450019\n",
      "1202    0.452018\n",
      "1203    0.453996\n",
      "1204    0.455910\n",
      "1205    0.457786\n",
      "Name: Sample, Length: 741, dtype: float64\n",
      "3917\n",
      "1206    0.459684\n",
      "1207    0.461540\n",
      "1208    0.463481\n",
      "1209    0.465559\n",
      "1210    0.467479\n",
      "          ...   \n",
      "60     -1.638779\n",
      "61     -1.637216\n",
      "62     -1.635573\n",
      "63     -1.633883\n",
      "64     -1.632171\n",
      "Name: Sample, Length: 732, dtype: float64\n",
      "4413\n",
      "65    -1.630565\n",
      "66    -1.628991\n",
      "67    -1.627359\n",
      "68    -1.625764\n",
      "69    -1.624132\n",
      "         ...   \n",
      "344   -1.181396\n",
      "345   -1.179722\n",
      "346   -1.178095\n",
      "347   -1.176399\n",
      "348   -1.174575\n",
      "Name: Sample, Length: 284, dtype: float64\n",
      "4484\n",
      "348   -1.174575\n",
      "349   -1.172847\n",
      "350   -1.171173\n",
      "351   -1.169540\n",
      "352   -1.167871\n",
      "353   -1.166191\n",
      "354   -1.164500\n",
      "355   -1.162693\n",
      "356   -1.160954\n",
      "357   -1.159364\n",
      "358   -1.157754\n",
      "359   -1.156121\n",
      "360   -1.154479\n",
      "361   -1.152830\n",
      "362   -1.151108\n",
      "363   -1.149423\n",
      "364   -1.147812\n",
      "365   -1.146233\n",
      "366   -1.144638\n",
      "367   -1.142958\n",
      "368   -1.141278\n",
      "369   -1.139582\n",
      "370   -1.137886\n",
      "371   -1.136280\n",
      "372   -1.134701\n",
      "373   -1.133106\n",
      "374   -1.131410\n",
      "375   -1.129677\n",
      "376   -1.127960\n",
      "377   -1.126189\n",
      "378   -1.124509\n",
      "379   -1.122904\n",
      "380   -1.121282\n",
      "381   -1.119618\n",
      "382   -1.117906\n",
      "383   -1.116215\n",
      "384   -1.114530\n",
      "385   -1.112903\n",
      "386   -1.111314\n",
      "387   -1.109697\n",
      "388   -1.108039\n",
      "Name: Sample, dtype: float64\n",
      "4494\n",
      "389   -1.106316\n",
      "390   -1.104625\n",
      "391   -1.102956\n",
      "392   -1.101302\n",
      "393   -1.099718\n",
      "394   -1.098144\n",
      "395   -1.096528\n",
      "396   -1.094827\n",
      "397   -1.093136\n",
      "398   -1.091525\n",
      "399   -1.089930\n",
      "400   -1.088378\n",
      "Name: Sample, dtype: float64\n",
      "4507\n",
      "400    -1.088378\n",
      "401    -1.086841\n",
      "402    -1.085231\n",
      "403    -1.083577\n",
      "404    -1.081908\n",
      "          ...   \n",
      "1126    0.115502\n",
      "1127    0.117214\n",
      "1128    0.118904\n",
      "1129    0.120712\n",
      "1130    0.122493\n",
      "Name: Sample, Length: 731, dtype: float64\n",
      "5954\n",
      "1130    0.122493\n",
      "1131    0.124258\n",
      "1132    0.125981\n",
      "1133    0.127661\n",
      "1134    0.129282\n",
      "          ...   \n",
      "916    -0.239665\n",
      "917    -0.237974\n",
      "918    -0.236289\n",
      "919    -0.234556\n",
      "920    -0.232738\n",
      "Name: Sample, Length: 1874, dtype: float64\n",
      "8254\n",
      "921    -0.231026\n",
      "922    -0.229335\n",
      "923    -0.227671\n",
      "924    -0.225980\n",
      "925    -0.224311\n",
      "          ...   \n",
      "1077   -0.285169\n",
      "1078   -0.283808\n",
      "1079   -0.282458\n",
      "1080   -0.281060\n",
      "1081   -0.279619\n",
      "Name: Sample, Length: 2192, dtype: float64\n",
      "10337\n",
      "1081   -0.279619\n",
      "1082   -0.278146\n",
      "1083   -0.276716\n",
      "1084   -0.275355\n",
      "1086   -0.274021\n",
      "          ...   \n",
      "1456    0.628081\n",
      "1457    0.630011\n",
      "1460    0.633366\n",
      "1462    0.636715\n",
      "1464    0.640107\n",
      "Name: Sample, Length: 2606, dtype: float64\n",
      "13464\n",
      "1464    0.640107\n",
      "1466    0.643265\n",
      "1469    0.646535\n",
      "1470    0.648294\n",
      "1473    0.651819\n",
      "          ...   \n",
      "115    -1.513059\n",
      "116    -1.511060\n",
      "117    -1.509087\n",
      "118    -1.507056\n",
      "119    -1.504946\n",
      "Name: Sample, Length: 2022, dtype: float64\n",
      "14380\n",
      "120    -1.502872\n",
      "121    -1.500836\n",
      "122    -1.498784\n",
      "123    -1.496817\n",
      "124    -1.494844\n",
      "          ...   \n",
      "1390    0.939657\n",
      "1391    0.941444\n",
      "1392    0.943368\n",
      "1393    0.945229\n",
      "1394    0.947015\n",
      "Name: Sample, Length: 1212, dtype: float64\n",
      "15887\n",
      "1394    0.947015\n",
      "1395    0.948733\n",
      "1396    0.950625\n",
      "1397    0.952454\n",
      "1398    0.954315\n",
      "          ...   \n",
      "1070   -0.302007\n",
      "1071   -0.300667\n",
      "1072   -0.299290\n",
      "1073   -0.297945\n",
      "1074   -0.296632\n",
      "Name: Sample, Length: 1487, dtype: float64\n",
      "17352\n",
      "1074   -0.296632\n",
      "1075   -0.295287\n",
      "1076   -0.293974\n",
      "1077   -0.292645\n",
      "1078   -0.291331\n",
      "          ...   \n",
      "897     0.023153\n",
      "898     0.025227\n",
      "899     0.027029\n",
      "900     0.028688\n",
      "901     0.030405\n",
      "Name: Sample, Length: 2365, dtype: float64\n",
      "20616\n",
      "902     0.032409\n",
      "903     0.034132\n",
      "904     0.035865\n",
      "905     0.038125\n",
      "906     0.040272\n",
      "          ...   \n",
      "1317    0.780124\n",
      "1318    0.781931\n",
      "1319    0.783686\n",
      "1320    0.785440\n",
      "1321    0.787216\n",
      "Name: Sample, Length: 2150, dtype: float64\n",
      "21652\n",
      "1322    0.788843\n",
      "1323    0.790523\n",
      "1324    0.792293\n",
      "1325    0.794111\n",
      "1326    0.795914\n",
      "          ...   \n",
      "909    -0.109133\n",
      "910    -0.107485\n",
      "911    -0.105773\n",
      "912    -0.103939\n",
      "913    -0.102052\n",
      "Name: Sample, Length: 1476, dtype: float64\n",
      "23567\n",
      "913   -0.102052\n",
      "914   -0.100409\n",
      "915   -0.098686\n",
      "916   -0.096910\n",
      "917   -0.095098\n",
      "         ...   \n",
      "984   -0.314070\n",
      "985   -0.312518\n",
      "986   -0.311008\n",
      "987   -0.309471\n",
      "988   -0.307908\n",
      "Name: Sample, Length: 1971, dtype: float64\n",
      "25592\n",
      "988    -0.307908\n",
      "989    -0.306425\n",
      "990    -0.304915\n",
      "991    -0.303379\n",
      "992    -0.301911\n",
      "          ...   \n",
      "1020    0.557254\n",
      "1021    0.559551\n",
      "1022    0.561778\n",
      "1023    0.564107\n",
      "1024    0.566361\n",
      "Name: Sample, Length: 2394, dtype: float64\n",
      "28353\n",
      "1024    0.566361\n",
      "1025    0.568663\n",
      "1026    0.570960\n",
      "1027    0.573283\n",
      "1028    0.575601\n",
      "          ...   \n",
      "1609    0.909858\n",
      "1611    0.913441\n",
      "1614    0.916972\n",
      "1615    0.918710\n",
      "1617    0.922060\n",
      "Name: Sample, Length: 1708, dtype: float64\n",
      "29006\n",
      "1617    0.922060\n",
      "1619    0.925409\n",
      "1620    0.927025\n",
      "1621    0.928599\n",
      "1623    0.931890\n",
      "          ...   \n",
      "1025    0.211944\n",
      "1026    0.213938\n",
      "1027    0.215899\n",
      "1028    0.217893\n",
      "1029    0.219897\n",
      "Name: Sample, Length: 1376, dtype: float64\n",
      "31104\n",
      "1030    0.221849\n",
      "1031    0.223842\n",
      "1032    0.225756\n",
      "1033    0.227692\n",
      "1034    0.229643\n",
      "          ...   \n",
      "1032   -0.327096\n",
      "1033   -0.325692\n",
      "1034   -0.324283\n",
      "1035   -0.322837\n",
      "1036   -0.321423\n",
      "Name: Sample, Length: 1871, dtype: float64\n",
      "['L', 'A', 'V'] peaks are\n",
      "[   27  2205  2435  2949  3917  4413  4484  4494  4507  5954  8254 10337\n",
      " 13464 14380 15887 17352 20616 21652 23567 25592 28353 29006 31104 32747\n",
      " 35827 38375 39863 39866 40726 40779 41301 41414 41812 41851 42011]\n",
      "2205\n",
      "1128   -0.036057\n",
      "1129   -0.034457\n",
      "1130   -0.032926\n",
      "1131   -0.031368\n",
      "1132   -0.029847\n",
      "          ...   \n",
      "76     -1.613892\n",
      "77     -1.612133\n",
      "78     -1.610447\n",
      "79     -1.608767\n",
      "80     -1.607098\n",
      "Name: Sample, Length: 1204, dtype: float64\n",
      "2435\n",
      "81    -1.605418\n",
      "82    -1.603716\n",
      "83    -1.601941\n",
      "84    -1.600186\n",
      "85    -1.598570\n",
      "         ...   \n",
      "458   -0.961275\n",
      "459   -0.959303\n",
      "460   -0.957415\n",
      "461   -0.955517\n",
      "462   -0.953635\n",
      "Name: Sample, Length: 372, dtype: float64\n",
      "2949\n",
      "463    -0.951743\n",
      "464    -0.949722\n",
      "465    -0.947681\n",
      "466    -0.945682\n",
      "467    -0.943794\n",
      "          ...   \n",
      "1201    0.450019\n",
      "1202    0.452018\n",
      "1203    0.453996\n",
      "1204    0.455910\n",
      "1205    0.457786\n",
      "Name: Sample, Length: 741, dtype: float64\n",
      "3917\n",
      "1206    0.459684\n",
      "1207    0.461540\n",
      "1208    0.463481\n",
      "1209    0.465559\n",
      "1210    0.467479\n",
      "          ...   \n",
      "60     -1.638779\n",
      "61     -1.637216\n",
      "62     -1.635573\n",
      "63     -1.633883\n",
      "64     -1.632171\n",
      "Name: Sample, Length: 732, dtype: float64\n",
      "4413\n",
      "65    -1.630565\n",
      "66    -1.628991\n",
      "67    -1.627359\n",
      "68    -1.625764\n",
      "69    -1.624132\n",
      "         ...   \n",
      "344   -1.181396\n",
      "345   -1.179722\n",
      "346   -1.178095\n",
      "347   -1.176399\n",
      "348   -1.174575\n",
      "Name: Sample, Length: 284, dtype: float64\n",
      "4484\n",
      "348   -1.174575\n",
      "349   -1.172847\n",
      "350   -1.171173\n",
      "351   -1.169540\n",
      "352   -1.167871\n",
      "353   -1.166191\n",
      "354   -1.164500\n",
      "355   -1.162693\n",
      "356   -1.160954\n",
      "357   -1.159364\n",
      "358   -1.157754\n",
      "359   -1.156121\n",
      "360   -1.154479\n",
      "361   -1.152830\n",
      "362   -1.151108\n",
      "363   -1.149423\n",
      "364   -1.147812\n",
      "365   -1.146233\n",
      "366   -1.144638\n",
      "367   -1.142958\n",
      "368   -1.141278\n",
      "369   -1.139582\n",
      "370   -1.137886\n",
      "371   -1.136280\n",
      "372   -1.134701\n",
      "373   -1.133106\n",
      "374   -1.131410\n",
      "375   -1.129677\n",
      "376   -1.127960\n",
      "377   -1.126189\n",
      "378   -1.124509\n",
      "379   -1.122904\n",
      "380   -1.121282\n",
      "381   -1.119618\n",
      "382   -1.117906\n",
      "383   -1.116215\n",
      "384   -1.114530\n",
      "385   -1.112903\n",
      "386   -1.111314\n",
      "387   -1.109697\n",
      "388   -1.108039\n",
      "Name: Sample, dtype: float64\n",
      "4494\n",
      "389   -1.106316\n",
      "390   -1.104625\n",
      "391   -1.102956\n",
      "392   -1.101302\n",
      "393   -1.099718\n",
      "394   -1.098144\n",
      "395   -1.096528\n",
      "396   -1.094827\n",
      "397   -1.093136\n",
      "398   -1.091525\n",
      "399   -1.089930\n",
      "400   -1.088378\n",
      "Name: Sample, dtype: float64\n",
      "4507\n",
      "400    -1.088378\n",
      "401    -1.086841\n",
      "402    -1.085231\n",
      "403    -1.083577\n",
      "404    -1.081908\n",
      "          ...   \n",
      "1126    0.115502\n",
      "1127    0.117214\n",
      "1128    0.118904\n",
      "1129    0.120712\n",
      "1130    0.122493\n",
      "Name: Sample, Length: 731, dtype: float64\n"
     ]
    },
    {
     "name": "stdout",
     "output_type": "stream",
     "text": [
      "5954\n",
      "1130    0.122493\n",
      "1131    0.124258\n",
      "1132    0.125981\n",
      "1133    0.127661\n",
      "1134    0.129282\n",
      "          ...   \n",
      "916    -0.239665\n",
      "917    -0.237974\n",
      "918    -0.236289\n",
      "919    -0.234556\n",
      "920    -0.232738\n",
      "Name: Sample, Length: 1874, dtype: float64\n",
      "8254\n",
      "921    -0.231026\n",
      "922    -0.229335\n",
      "923    -0.227671\n",
      "924    -0.225980\n",
      "925    -0.224311\n",
      "          ...   \n",
      "1077   -0.285169\n",
      "1078   -0.283808\n",
      "1079   -0.282458\n",
      "1080   -0.281060\n",
      "1081   -0.279619\n",
      "Name: Sample, Length: 2192, dtype: float64\n",
      "10337\n",
      "1081   -0.279619\n",
      "1082   -0.278146\n",
      "1083   -0.276716\n",
      "1084   -0.275355\n",
      "1086   -0.274021\n",
      "          ...   \n",
      "1456    0.628081\n",
      "1457    0.630011\n",
      "1460    0.633366\n",
      "1462    0.636715\n",
      "1464    0.640107\n",
      "Name: Sample, Length: 2606, dtype: float64\n",
      "13464\n",
      "1464    0.640107\n",
      "1466    0.643265\n",
      "1469    0.646535\n",
      "1470    0.648294\n",
      "1473    0.651819\n",
      "          ...   \n",
      "115    -1.513059\n",
      "116    -1.511060\n",
      "117    -1.509087\n",
      "118    -1.507056\n",
      "119    -1.504946\n",
      "Name: Sample, Length: 2022, dtype: float64\n",
      "14380\n",
      "120    -1.502872\n",
      "121    -1.500836\n",
      "122    -1.498784\n",
      "123    -1.496817\n",
      "124    -1.494844\n",
      "          ...   \n",
      "1390    0.939657\n",
      "1391    0.941444\n",
      "1392    0.943368\n",
      "1393    0.945229\n",
      "1394    0.947015\n",
      "Name: Sample, Length: 1212, dtype: float64\n",
      "15887\n",
      "1394    0.947015\n",
      "1395    0.948733\n",
      "1396    0.950625\n",
      "1397    0.952454\n",
      "1398    0.954315\n",
      "          ...   \n",
      "1070   -0.302007\n",
      "1071   -0.300667\n",
      "1072   -0.299290\n",
      "1073   -0.297945\n",
      "1074   -0.296632\n",
      "Name: Sample, Length: 1487, dtype: float64\n",
      "17352\n",
      "1074   -0.296632\n",
      "1075   -0.295287\n",
      "1076   -0.293974\n",
      "1077   -0.292645\n",
      "1078   -0.291331\n",
      "          ...   \n",
      "897     0.023153\n",
      "898     0.025227\n",
      "899     0.027029\n",
      "900     0.028688\n",
      "901     0.030405\n",
      "Name: Sample, Length: 2365, dtype: float64\n",
      "20616\n",
      "902     0.032409\n",
      "903     0.034132\n",
      "904     0.035865\n",
      "905     0.038125\n",
      "906     0.040272\n",
      "          ...   \n",
      "1317    0.780124\n",
      "1318    0.781931\n",
      "1319    0.783686\n",
      "1320    0.785440\n",
      "1321    0.787216\n",
      "Name: Sample, Length: 2150, dtype: float64\n",
      "21652\n",
      "1322    0.788843\n",
      "1323    0.790523\n",
      "1324    0.792293\n",
      "1325    0.794111\n",
      "1326    0.795914\n",
      "          ...   \n",
      "909    -0.109133\n",
      "910    -0.107485\n",
      "911    -0.105773\n",
      "912    -0.103939\n",
      "913    -0.102052\n",
      "Name: Sample, Length: 1476, dtype: float64\n",
      "23567\n",
      "913   -0.102052\n",
      "914   -0.100409\n",
      "915   -0.098686\n",
      "916   -0.096910\n",
      "917   -0.095098\n",
      "         ...   \n",
      "984   -0.314070\n",
      "985   -0.312518\n",
      "986   -0.311008\n",
      "987   -0.309471\n",
      "988   -0.307908\n",
      "Name: Sample, Length: 1971, dtype: float64\n",
      "25592\n",
      "988    -0.307908\n",
      "989    -0.306425\n",
      "990    -0.304915\n",
      "991    -0.303379\n",
      "992    -0.301911\n",
      "          ...   \n",
      "1020    0.557254\n",
      "1021    0.559551\n",
      "1022    0.561778\n",
      "1023    0.564107\n",
      "1024    0.566361\n",
      "Name: Sample, Length: 2394, dtype: float64\n",
      "28353\n",
      "1024    0.566361\n",
      "1025    0.568663\n",
      "1026    0.570960\n",
      "1027    0.573283\n",
      "1028    0.575601\n",
      "          ...   \n",
      "1609    0.909858\n",
      "1611    0.913441\n",
      "1614    0.916972\n",
      "1615    0.918710\n",
      "1617    0.922060\n",
      "Name: Sample, Length: 1708, dtype: float64\n",
      "29006\n",
      "1617    0.922060\n",
      "1619    0.925409\n",
      "1620    0.927025\n",
      "1621    0.928599\n",
      "1623    0.931890\n",
      "          ...   \n",
      "1025    0.211944\n",
      "1026    0.213938\n",
      "1027    0.215899\n",
      "1028    0.217893\n",
      "1029    0.219897\n",
      "Name: Sample, Length: 1376, dtype: float64\n",
      "31104\n",
      "1030    0.221849\n",
      "1031    0.223842\n",
      "1032    0.225756\n",
      "1033    0.227692\n",
      "1034    0.229643\n",
      "          ...   \n",
      "1032   -0.327096\n",
      "1033   -0.325692\n",
      "1034   -0.324283\n",
      "1035   -0.322837\n",
      "1036   -0.321423\n",
      "Name: Sample, Length: 1871, dtype: float64\n",
      "32747\n",
      "1036   -0.321423\n",
      "1037   -0.320019\n",
      "1038   -0.318573\n",
      "1039   -0.317111\n",
      "1040   -0.315697\n",
      "          ...   \n",
      "931    -0.486847\n",
      "932    -0.485497\n",
      "933    -0.484163\n",
      "934    -0.482812\n",
      "935    -0.481451\n",
      "Name: Sample, Length: 2362, dtype: float64\n",
      "35827\n",
      "936    -0.480074\n",
      "937    -0.478639\n",
      "938    -0.477166\n",
      "939    -0.475747\n",
      "940    -0.474412\n",
      "          ...   \n",
      "1241    0.294106\n",
      "1242    0.295722\n",
      "1243    0.297349\n",
      "1244    0.298981\n",
      "1245    0.300714\n",
      "Name: Sample, Length: 2814, dtype: float64\n",
      "38375\n",
      "1246    0.302448\n",
      "1247    0.304080\n",
      "1248    0.305738\n",
      "1249    0.307376\n",
      "1250    0.309024\n",
      "          ...   \n",
      "1834    1.286982\n",
      "1835    1.287902\n",
      "1868    1.354758\n",
      "1869    1.355720\n",
      "1874    1.364785\n",
      "Name: Sample, Length: 2018, dtype: float64\n",
      "39863\n",
      "1875    1.365779\n",
      "1879    1.373732\n",
      "1880    1.374753\n",
      "1883    1.380654\n",
      "1884    1.381580\n",
      "          ...   \n",
      "1653    0.981249\n",
      "1655    0.984875\n",
      "1659    0.992068\n",
      "1661    0.995678\n",
      "1664    1.001111\n",
      "Name: Sample, Length: 746, dtype: float64\n",
      "39866\n",
      "1664    1.001111\n",
      "1669    1.010048\n",
      "1675    1.020969\n",
      "1677    1.024610\n",
      "1680    1.030012\n",
      "          ...   \n",
      "2045    1.632803\n",
      "2060    1.658439\n",
      "2067    1.670811\n",
      "2081    1.696314\n",
      "1021    0.203283\n",
      "Name: Sample, Length: 90, dtype: float64\n",
      "40726\n",
      "Series([], Name: Sample, dtype: float64)\n",
      "40779\n",
      "Series([], Name: Sample, dtype: float64)\n",
      "41301\n",
      "Series([], Name: Sample, dtype: float64)\n",
      "41414\n",
      "Series([], Name: Sample, dtype: float64)\n",
      "41812\n",
      "Series([], Name: Sample, dtype: float64)\n",
      "41851\n",
      "Series([], Name: Sample, dtype: float64)\n",
      "[['N'], ['N'], ['N'], ['N'], ['N'], ['N'], ['N'], ['N'], ['N'], ['N'], ['N'], ['N'], ['N'], ['N'], ['N'], ['N'], ['N'], ['N'], ['N'], ['N'], ['N'], ['N'], ['N'], ['N'], ['N'], ['N'], ['N'], ['N'], ['N'], ['N'], ['N'], ['N'], ['N'], ['N'], ['N'], ['N'], ['N'], ['N'], ['N'], ['N'], ['N'], ['N'], ['N'], ['N'], ['N'], ['N'], ['N'], ['N'], ['N'], ['N'], ['N'], ['N'], ['N'], ['N'], ['N'], ['N'], ['N'], ['N'], ['N'], ['N'], ['N'], ['N'], ['N'], ['N'], ['N'], ['N'], ['N'], ['N'], ['N'], ['N'], ['N'], ['N'], ['N'], ['N'], ['N'], ['N'], ['N'], ['N'], ['N'], ['N'], ['N'], ['N'], ['N'], ['N'], ['N'], ['N'], ['N'], ['N'], ['N'], ['N'], ['N'], ['N'], ['N'], ['N'], ['N'], ['N'], ['N'], ['N'], ['N'], ['N'], ['N'], ['N'], ['N'], ['N'], ['N'], ['N'], ['N'], ['N'], ['N'], ['N'], ['N'], ['N'], ['N'], ['N'], ['N'], ['N'], ['N'], ['N'], ['N'], ['N'], ['N'], ['N'], ['N'], ['N'], ['N'], ['N'], ['N'], ['N'], ['N'], ['N'], ['N'], ['N'], ['N'], ['N'], ['N'], ['N'], ['N'], ['N'], ['N'], ['N'], ['N'], ['N'], ['N'], ['N'], ['N'], ['N'], ['N'], ['N'], ['N'], ['N'], ['N'], ['N'], ['N'], ['N'], ['N'], ['N'], ['N'], ['N'], ['N'], ['N'], ['N'], ['N'], ['N'], ['N'], ['N'], ['N'], ['N'], ['N'], ['N'], ['N'], ['N'], ['N'], ['N'], ['N'], ['N'], ['N'], ['N'], ['N'], ['N'], ['N'], ['N'], ['N'], ['N'], ['N'], ['N'], ['N'], ['N'], ['N'], ['N'], ['N'], ['N'], ['N'], ['N'], ['N'], ['N'], ['N'], ['N'], ['N'], ['N'], ['N'], ['N'], ['N'], ['N'], ['N'], ['N'], ['N'], ['N'], ['N'], ['N'], ['N'], ['N'], ['N'], ['N'], ['N'], ['N'], ['N'], ['N'], ['N'], ['N'], ['N'], ['L', 'A', 'V'], ['L', 'A', 'V'], ['L', 'A', 'V'], ['L', 'A', 'V'], ['L', 'A', 'V'], ['L', 'A', 'V'], ['L', 'A', 'V'], ['L', 'A', 'V'], ['L', 'A', 'V'], ['L', 'A', 'V'], ['L', 'A', 'V'], ['L', 'A', 'V'], ['L', 'A', 'V'], ['L', 'A', 'V'], ['L', 'A', 'V'], ['L', 'A', 'V'], ['L', 'A', 'V'], ['L', 'A', 'V'], ['L', 'A', 'V'], ['L', 'A', 'V'], ['L', 'A', 'V'], ['L', 'A', 'V'], ['L', 'A', 'V'], ['L', 'A', 'V'], ['L', 'A', 'V'], ['L', 'A', 'V'], ['L', 'A', 'V'], ['L', 'A', 'V'], ['L', 'A', 'V'], ['L', 'A', 'V'], ['L', 'A', 'V'], ['L', 'A', 'V'], ['L', 'A', 'V'], ['L', 'A', 'V'], ['L', 'A', 'V'], ['L', 'A', 'V'], ['L', 'A', 'V'], ['L', 'A', 'V'], ['L', 'A', 'V'], ['L', 'A', 'V'], ['L', 'A', 'V'], ['L', 'A', 'V'], ['L', 'A', 'V'], ['L', 'A', 'V'], ['L', 'A', 'V'], ['L', 'A', 'V'], ['L', 'A', 'V'], ['L', 'A', 'V'], ['L', 'A', 'V'], ['L', 'A', 'V'], ['L', 'A', 'V'], ['L', 'A', 'V'], ['L', 'A', 'V'], ['L', 'A', 'V'], ['L', 'A', 'V'], ['L', 'A', 'V'], ['L', 'A', 'V'], ['L', 'A', 'V'], ['L', 'A', 'V'], ['L', 'A', 'V'], ['L', 'A', 'V'], ['L', 'A', 'V'], ['L', 'A', 'V'], ['L', 'A', 'V'], ['L', 'A', 'V'], ['L', 'A', 'V'], ['L', 'A', 'V'], ['L', 'A', 'V'], ['L', 'A', 'V'], ['L', 'A', 'V'], ['L', 'A', 'V'], ['L', 'A', 'V'], ['L', 'A', 'V'], ['L', 'A', 'V'], ['L', 'A', 'V'], ['L', 'A', 'V'], ['L', 'A', 'V'], ['L', 'A', 'V'], ['L', 'A', 'V'], ['L', 'A', 'V'], ['L', 'A', 'V'], ['L', 'A', 'V'], ['L', 'A', 'V'], ['L', 'A', 'V'], ['L', 'A', 'V'], ['L', 'A', 'V'], ['L', 'A', 'V'], ['L', 'A', 'V'], ['L', 'A', 'V'], ['L', 'A', 'V'], ['L', 'A', 'V'], ['L', 'A', 'V'], ['L', 'A', 'V'], ['L', 'A', 'V'], ['L', 'A', 'V'], ['L', 'A', 'V'], ['L', 'A', 'V'], ['L', 'A', 'V'], ['L', 'A', 'V'], ['L', 'A', 'V'], ['L', 'A', 'V'], ['L', 'A', 'V'], ['L', 'A', 'V'], ['L', 'A', 'V'], ['L', 'A', 'V'], ['L', 'A', 'V'], ['L', 'A', 'V'], ['L', 'A', 'V'], ['L', 'A', 'V'], ['L', 'A', 'V'], ['L', 'A', 'V'], ['L', 'A', 'V'], ['L', 'A', 'V'], ['L', 'A', 'V'], ['L', 'A', 'V'], ['L', 'A', 'V'], ['L', 'A', 'V'], ['L', 'A', 'V'], ['L', 'A', 'V'], ['L', 'A', 'V'], ['L', 'A', 'V'], ['L', 'A', 'V'], ['L', 'A', 'V'], ['L', 'A', 'V'], ['L', 'A', 'V'], ['L', 'A', 'V'], ['L', 'A', 'V'], ['L', 'A', 'V'], ['L', 'A', 'V'], ['L', 'A', 'V'], ['L', 'A', 'V'], ['L', 'A', 'V'], ['L', 'A', 'V'], ['L', 'A', 'V'], ['L', 'A', 'V'], ['L', 'A', 'V'], ['L', 'A', 'V'], ['L', 'A', 'V'], ['L', 'A', 'V'], ['L', 'A', 'V'], ['L', 'A', 'V'], ['L', 'A', 'V'], ['L', 'A', 'V'], ['L', 'A', 'V'], ['L', 'A', 'V'], ['L', 'A', 'V'], ['L', 'A', 'V'], ['L', 'A', 'V'], ['L', 'A', 'V'], ['L', 'A', 'V'], ['L', 'A', 'V'], ['L', 'A', 'V'], ['L', 'A', 'V'], ['L', 'A', 'V'], ['L', 'A', 'V'], ['L', 'A', 'V'], ['L', 'A', 'V'], ['L', 'A', 'V'], ['L', 'A', 'V'], ['L', 'A', 'V'], ['L', 'A', 'V'], ['L', 'A', 'V'], ['L', 'A', 'V'], ['L', 'A', 'V'], ['L', 'A', 'V'], ['L', 'A', 'V'], ['L', 'A', 'V'], ['L', 'A', 'V'], ['L', 'A', 'V'], ['L', 'A', 'V'], ['L', 'A', 'V'], ['L', 'A', 'V'], ['L', 'A', 'V'], ['L', 'A', 'V'], ['L', 'A', 'V'], ['L', 'A', 'V'], ['L', 'A', 'V'], ['L', 'A', 'V'], ['L', 'A', 'V'], ['L', 'A', 'V'], ['L', 'A', 'V'], ['L', 'A', 'V'], ['L', 'A', 'V'], ['L', 'A', 'V'], ['L', 'A', 'V'], ['L', 'A', 'V'], ['L', 'A', 'V'], ['L', 'A', 'V'], ['L', 'A', 'V'], ['L', 'A', 'V'], ['L', 'A', 'V'], ['L', 'A', 'V'], ['L', 'A', 'V'], ['L', 'A', 'V'], ['L', 'A', 'V'], ['L', 'A', 'V'], ['L', 'A', 'V'], ['L', 'A', 'V'], ['L', 'A', 'V'], ['L', 'A', 'V'], ['L', 'A', 'V'], ['L', 'A', 'V'], ['L', 'A', 'V'], ['L', 'A', 'V'], ['L', 'A', 'V'], ['L', 'A', 'V'], ['L', 'A', 'V'], ['L', 'A', 'V'], ['L', 'A', 'V'], ['L', 'A', 'V'], ['L', 'A', 'V'], ['L', 'A', 'V'], ['L', 'A', 'V'], ['L', 'A', 'V'], ['L', 'A', 'V'], ['L', 'A', 'V'], ['L', 'A', 'V'], ['L', 'A', 'V'], ['L', 'A', 'V'], ['L', 'A', 'V'], ['L', 'A', 'V'], ['L', 'A', 'V'], ['L', 'A', 'V'], ['L', 'A', 'V'], ['L', 'A', 'V'], ['L', 'A', 'V'], ['L', 'A', 'V'], ['L', 'A', 'V'], ['L', 'A', 'V'], ['L', 'A', 'V'], ['L', 'A', 'V'], ['L', 'A', 'V'], ['L', 'A', 'V'], ['L', 'A', 'V'], ['L', 'A', 'V'], ['L', 'A', 'V'], ['L', 'A', 'V'], ['L', 'A', 'V'], ['L', 'A', 'V'], ['L', 'A', 'V'], ['L', 'A', 'V'], ['L', 'A', 'V'], ['L', 'A', 'V'], ['L', 'A', 'V'], ['L', 'A', 'V'], ['L', 'A', 'V'], ['L', 'A', 'V'], ['L', 'A', 'V'], ['L', 'A', 'V'], ['L', 'A', 'V'], ['L', 'A', 'V'], ['L', 'A', 'V'], ['L', 'A', 'V'], ['L', 'A', 'V'], ['L', 'A', 'V'], ['L', 'A', 'V'], ['L', 'A', 'V'], ['L', 'A', 'V'], ['L', 'A', 'V'], ['L', 'A', 'V'], ['L', 'A', 'V'], ['L', 'A', 'V'], ['L', 'A', 'V'], ['L', 'A', 'V'], ['L', 'A', 'V'], ['L', 'A', 'V'], ['L', 'A', 'V'], ['L', 'A', 'V'], ['L', 'A', 'V'], ['L', 'A', 'V'], ['L', 'A', 'V'], ['L', 'A', 'V'], ['L', 'A', 'V'], ['L', 'A', 'V'], ['L', 'A', 'V'], ['L', 'A', 'V'], ['L', 'A', 'V'], ['L', 'A', 'V'], ['L', 'A', 'V'], ['L', 'A', 'V'], ['L', 'A', 'V'], ['L', 'A', 'V'], ['L', 'A', 'V'], ['L', 'A', 'V'], ['L', 'A', 'V'], ['L', 'A', 'V'], ['L', 'A', 'V'], ['L', 'A', 'V'], ['L', 'A', 'V'], ['L', 'A', 'V'], ['L', 'A', 'V'], ['L', 'A', 'V'], ['L', 'A', 'V'], ['L', 'A', 'V'], ['L', 'A', 'V'], ['L', 'A', 'V'], ['L', 'A', 'V'], ['L', 'A', 'V'], ['L', 'A', 'V'], ['L', 'A', 'V'], ['L', 'A', 'V'], ['L', 'A', 'V'], ['L', 'A', 'V'], ['L', 'A', 'V'], ['L', 'A', 'V'], ['L', 'A', 'V'], ['L', 'A', 'V'], ['L', 'A', 'V'], ['L', 'A', 'V'], ['L', 'A', 'V'], ['L', 'A', 'V'], ['L', 'A', 'V'], ['L', 'A', 'V'], ['L', 'A', 'V'], ['L', 'A', 'V'], ['L', 'A', 'V'], ['L', 'A', 'V'], ['L', 'A', 'V'], ['L', 'A', 'V'], ['L', 'A', 'V'], ['L', 'A', 'V'], ['L', 'A', 'V'], ['L', 'A', 'V'], ['L', 'A', 'V'], ['L', 'A', 'V'], ['L', 'A', 'V'], ['L', 'A', 'V'], ['L', 'A', 'V'], ['L', 'A', 'V'], ['L', 'A', 'V']]\n"
     ]
    },
    {
     "data": {
      "image/png": "[encoded data removed]",
      "text/plain": [
       "<Figure size 432x288 with 1 Axes>"
      ]
     },
     "metadata": {},
     "output_type": "display_data"
    },
    {
     "data": {
      "image/png": "[encoded data removed]",
      "text/plain": [
       "<Figure size 432x288 with 1 Axes>"
      ]
     },
     "metadata": {},
     "output_type": "display_data"
    },
    {
     "data": {
      "image/png": "[encoded data removed]",
      "text/plain": [
       "<Figure size 432x288 with 1 Axes>"
      ]
     },
     "metadata": {},
     "output_type": "display_data"
    },
    {
     "data": {
      "image/png": "[encoded data removed]",
      "text/plain": [
       "<Figure size 432x288 with 1 Axes>"
      ]
     },
     "metadata": {},
     "output_type": "display_data"
    },
    {
     "data": {
      "image/png": "[encoded data removed]",
      "text/plain": [
       "<Figure size 432x288 with 1 Axes>"
      ]
     },
     "metadata": {},
     "output_type": "display_data"
    },
    {
     "data": {
      "image/png": "[encoded data removed]",
      "text/plain": [
       "<Figure size 432x288 with 1 Axes>"
      ]
     },
     "metadata": {},
     "output_type": "display_data"
    },
    {
     "data": {
      "image/png": "[encoded data removed]",
      "text/plain": [
       "<Figure size 432x288 with 1 Axes>"
      ]
     },
     "metadata": {},
     "output_type": "display_data"
    },
    {
     "data": {
      "image/png": "[encoded data removed]",
      "text/plain": [
       "<Figure size 432x288 with 1 Axes>"
      ]
     },
     "metadata": {},
     "output_type": "display_data"
    },
    {
     "data": {
      "image/png": "[encoded data removed]",
      "text/plain": [
       "<Figure size 432x288 with 1 Axes>"
      ]
     },
     "metadata": {},
     "output_type": "display_data"
    },
    {
     "data": {
      "image/png": "[encoded data removed]",
      "text/plain": [
       "<Figure size 432x288 with 1 Axes>"
      ]
     },
     "metadata": {},
     "output_type": "display_data"
    },
    {
     "data": {
      "image/png": "[encoded data removed]",
      "text/plain": [
       "<Figure size 432x288 with 1 Axes>"
      ]
     },
     "metadata": {},
     "output_type": "display_data"
    },
    {
     "data": {
      "image/png": "[encoded data removed]",
      "text/plain": [
       "<Figure size 432x288 with 1 Axes>"
      ]
     },
     "metadata": {},
     "output_type": "display_data"
    },
    {
     "data": {
      "image/png": "[encoded data removed]",
      "text/plain": [
       "<Figure size 432x288 with 1 Axes>"
      ]
     },
     "metadata": {},
     "output_type": "display_data"
    },
    {
     "data": {
      "image/png": "[encoded data removed]",
      "text/plain": [
       "<Figure size 432x288 with 1 Axes>"
      ]
     },
     "metadata": {},
     "output_type": "display_data"
    },
    {
     "data": {
      "image/png": "[encoded data removed]",
      "text/plain": [
       "<Figure size 432x288 with 1 Axes>"
      ]
     },
     "metadata": {},
     "output_type": "display_data"
    },
    {
     "data": {
      "image/png": "[encoded data removed]",
      "text/plain": [
       "<Figure size 432x288 with 1 Axes>"
      ]
     },
     "metadata": {},
     "output_type": "display_data"
    },
    {
     "data": {
      "image/png": "[encoded data removed]",
      "text/plain": [
       "<Figure size 432x288 with 1 Axes>"
      ]
     },
     "metadata": {},
     "output_type": "display_data"
    },
    {
     "data": {
      "image/png": "[encoded data removed]",
      "text/plain": [
       "<Figure size 432x288 with 1 Axes>"
      ]
     },
     "metadata": {},
     "output_type": "display_data"
    },
    {
     "data": {
      "image/png": "[encoded data removed]",
      "text/plain": [
       "<Figure size 432x288 with 1 Axes>"
      ]
     },
     "metadata": {},
     "output_type": "display_data"
    },
    {
     "data": {
      "image/png": "[encoded data removed]",
      "text/plain": [
       "<Figure size 432x288 with 1 Axes>"
      ]
     },
     "metadata": {},
     "output_type": "display_data"
    },
    {
     "data": {
      "image/png": "[encoded data removed]",
      "text/plain": [
       "<Figure size 432x288 with 1 Axes>"
      ]
     },
     "metadata": {},
     "output_type": "display_data"
    },
    {
     "data": {
      "image/png": "[encoded data removed]",
      "text/plain": [
       "<Figure size 432x288 with 1 Axes>"
      ]
     },
     "metadata": {},
     "output_type": "display_data"
    },
    {
     "data": {
      "image/png": "[encoded data removed]",
      "text/plain": [
       "<Figure size 432x288 with 1 Axes>"
      ]
     },
     "metadata": {},
     "output_type": "display_data"
    },
    {
     "data": {
      "image/png": "[encoded data removed]",
      "text/plain": [
       "<Figure size 432x288 with 1 Axes>"
      ]
     },
     "metadata": {},
     "output_type": "display_data"
    },
    {
     "data": {
      "image/png": "[encoded data removed]",
      "text/plain": [
       "<Figure size 432x288 with 1 Axes>"
      ]
     },
     "metadata": {},
     "output_type": "display_data"
    },
    {
     "data": {
      "image/png": "[encoded data removed]",
      "text/plain": [
       "<Figure size 432x288 with 1 Axes>"
      ]
     },
     "metadata": {},
     "output_type": "display_data"
    },
    {
     "data": {
      "image/png": "[encoded data removed]",
      "text/plain": [
       "<Figure size 432x288 with 1 Axes>"
      ]
     },
     "metadata": {},
     "output_type": "display_data"
    },
    {
     "data": {
      "image/png": "[encoded data removed]",
      "text/plain": [
       "<Figure size 432x288 with 1 Axes>"
      ]
     },
     "metadata": {},
     "output_type": "display_data"
    },
    {
     "data": {
      "image/png": "[encoded data removed]",
      "text/plain": [
       "<Figure size 432x288 with 1 Axes>"
      ]
     },
     "metadata": {},
     "output_type": "display_data"
    },
    {
     "data": {
      "image/png": "[encoded data removed]",
      "text/plain": [
       "<Figure size 432x288 with 1 Axes>"
      ]
     },
     "metadata": {},
     "output_type": "display_data"
    },
    {
     "data": {
      "image/png": "[encoded data removed]",
      "text/plain": [
       "<Figure size 432x288 with 1 Axes>"
      ]
     },
     "metadata": {},
     "output_type": "display_data"
    },
    {
     "data": {
      "image/png": "[encoded data removed]",
      "text/plain": [
       "<Figure size 432x288 with 1 Axes>"
      ]
     },
     "metadata": {},
     "output_type": "display_data"
    },
    {
     "data": {
      "image/png": "[encoded data removed]",
      "text/plain": [
       "<Figure size 432x288 with 1 Axes>"
      ]
     },
     "metadata": {},
     "output_type": "display_data"
    },
    {
     "data": {
      "image/png": "[encoded data removed]",
      "text/plain": [
       "<Figure size 432x288 with 1 Axes>"
      ]
     },
     "metadata": {},
     "output_type": "display_data"
    },
    {
     "data": {
      "image/png": "[encoded data removed]",
      "text/plain": [
       "<Figure size 432x288 with 1 Axes>"
      ]
     },
     "metadata": {},
     "output_type": "display_data"
    },
    {
     "data": {
      "image/png": "[encoded data removed]",
      "text/plain": [
       "<Figure size 432x288 with 1 Axes>"
      ]
     },
     "metadata": {},
     "output_type": "display_data"
    },
    {
     "data": {
      "image/png": "[encoded data removed]",
      "text/plain": [
       "<Figure size 432x288 with 1 Axes>"
      ]
     },
     "metadata": {},
     "output_type": "display_data"
    },
    {
     "data": {
      "image/png": "[encoded data removed]",
      "text/plain": [
       "<Figure size 432x288 with 1 Axes>"
      ]
     },
     "metadata": {},
     "output_type": "display_data"
    },
    {
     "data": {
      "image/png": "[encoded data removed]",
      "text/plain": [
       "<Figure size 432x288 with 1 Axes>"
      ]
     },
     "metadata": {},
     "output_type": "display_data"
    },
    {
     "data": {
      "image/png": "[encoded data removed]",
      "text/plain": [
       "<Figure size 432x288 with 1 Axes>"
      ]
     },
     "metadata": {},
     "output_type": "display_data"
    },
    {
     "data": {
      "image/png": "[encoded data removed]",
      "text/plain": [
       "<Figure size 432x288 with 1 Axes>"
      ]
     },
     "metadata": {},
     "output_type": "display_data"
    },
    {
     "data": {
      "image/png": "[encoded data removed]",
      "text/plain": [
       "<Figure size 432x288 with 1 Axes>"
      ]
     },
     "metadata": {},
     "output_type": "display_data"
    },
    {
     "data": {
      "image/png": "[encoded data removed]",
      "text/plain": [
       "<Figure size 432x288 with 1 Axes>"
      ]
     },
     "metadata": {},
     "output_type": "display_data"
    },
    {
     "data": {
      "image/png": "[encoded data removed]",
      "text/plain": [
       "<Figure size 432x288 with 1 Axes>"
      ]
     },
     "metadata": {},
     "output_type": "display_data"
    },
    {
     "data": {
      "image/png": "[encoded data removed]",
      "text/plain": [
       "<Figure size 432x288 with 1 Axes>"
      ]
     },
     "metadata": {},
     "output_type": "display_data"
    },
    {
     "data": {
      "image/png": "[encoded data removed]",
      "text/plain": [
       "<Figure size 432x288 with 1 Axes>"
      ]
     },
     "metadata": {},
     "output_type": "display_data"
    },
    {
     "data": {
      "image/png": "[encoded data removed]",
      "text/plain": [
       "<Figure size 432x288 with 1 Axes>"
      ]
     },
     "metadata": {},
     "output_type": "display_data"
    },
    {
     "data": {
      "image/png": "[encoded data removed]",
      "text/plain": [
       "<Figure size 432x288 with 1 Axes>"
      ]
     },
     "metadata": {},
     "output_type": "display_data"
    },
    {
     "data": {
      "image/png": "[encoded data removed]",
      "text/plain": [
       "<Figure size 432x288 with 1 Axes>"
      ]
     },
     "metadata": {},
     "output_type": "display_data"
    },
    {
     "data": {
      "image/png": "[encoded data removed]",
      "text/plain": [
       "<Figure size 432x288 with 1 Axes>"
      ]
     },
     "metadata": {},
     "output_type": "display_data"
    },
    {
     "data": {
      "image/png": "[encoded data removed]",
      "text/plain": [
       "<Figure size 432x288 with 1 Axes>"
      ]
     },
     "metadata": {},
     "output_type": "display_data"
    },
    {
     "data": {
      "image/png": "[encoded data removed]",
      "text/plain": [
       "<Figure size 432x288 with 1 Axes>"
      ]
     },
     "metadata": {},
     "output_type": "display_data"
    },
    {
     "data": {
      "image/png": "[encoded data removed]",
      "text/plain": [
       "<Figure size 432x288 with 1 Axes>"
      ]
     },
     "metadata": {},
     "output_type": "display_data"
    },
    {
     "data": {
      "image/png": "[encoded data removed]",
      "text/plain": [
       "<Figure size 432x288 with 1 Axes>"
      ]
     },
     "metadata": {},
     "output_type": "display_data"
    },
    {
     "data": {
      "image/png": "[encoded data removed]",
      "text/plain": [
       "<Figure size 432x288 with 1 Axes>"
      ]
     },
     "metadata": {},
     "output_type": "display_data"
    }
   ],
   "source": [
    "import pandas as pd\n",
    "w=100\n",
    "h=(str(w))+'annotations.csv'\n",
    "pks=[]\n",
    "signals=[]\n",
    "xtrain=[]\n",
    "ytrain=[]\n",
    "imp=[['N'],['L','A','V']] # we have normal and non normal heartbeat .Non noraml hearbeat can be divided into(L-Left branch block beat, A-Atrial premature contraction, V-Ventricular contraction)\n",
    "gt=['N','NN']\n",
    "dt=-1\n",
    "rohancnt=0\n",
    "data=pd.DataFrame()\n",
    "while(w<120):# i was hit and trialing how many minimum files to concatenate to avoid data imbalancy other model will be biased\n",
    "    h=(str(w))+\"annotations.csv\"\n",
    "    r0=pd.read_csv(r\"C:\\Users\\RACHIT\\Desktop\\ECG\\ecg_files\\txt_files\"+'\\\\'+(str(w))+\"annotations.csv\")\n",
    "    r1=pd.read_csv(r\"C:\\Users\\RACHIT\\Desktop\\ECG\\ecg_files\\txt_files\"+'\\\\'+(str(w+1))+\"annotations.csv\")\n",
    "    r2=pd.read_csv(r\"C:\\Users\\RACHIT\\Desktop\\ECG\\ecg_files\\txt_files\"+'\\\\'+(str(w+2))+\"annotations.csv\")\n",
    "    r3=pd.read_csv(r\"C:\\Users\\RACHIT\\Desktop\\ECG\\ecg_files\\txt_files\"+'\\\\'+(str(w+3))+\"annotations.csv\")\n",
    "    r4=pd.read_csv(r\"C:\\Users\\RACHIT\\Desktop\\ECG\\ecg_files\\txt_files\"+'\\\\'+(str(w+4))+\"annotations.csv\")\n",
    "    r5=pd.read_csv(r\"C:\\Users\\RACHIT\\Desktop\\ECG\\ecg_files\\txt_files\"+'\\\\'+(str(w+5))+\"annotations.csv\")\n",
    "    r6=pd.read_csv(r\"C:\\Users\\RACHIT\\Desktop\\ECG\\ecg_files\\txt_files\"+'\\\\'+(str(w+6))+\"annotations.csv\")\n",
    "    r7=pd.read_csv(r\"C:\\Users\\RACHIT\\Desktop\\ECG\\ecg_files\\txt_files\"+'\\\\'+(str(w+7))+\"annotations.csv\")\n",
    "    r8=pd.read_csv(r\"C:\\Users\\RACHIT\\Desktop\\ECG\\ecg_files\\txt_files\"+'\\\\'+(str(w+8))+\"annotations.csv\")\n",
    "    r9=pd.read_csv(r\"C:\\Users\\RACHIT\\Desktop\\ECG\\ecg_files\\txt_files\"+'\\\\'+(str(w+9))+\"annotations.csv\")\n",
    "    r10=pd.read_csv(r\"C:\\Users\\RACHIT\\Desktop\\ECG\\ecg_files\\txt_files\"+'\\\\'+(str(w+10))+\"annotations.csv\")\n",
    "    r11=pd.read_csv(r\"C:\\Users\\RACHIT\\Desktop\\ECG\\ecg_files\\txt_files\"+'\\\\'+(str(w+11))+\"annotations.csv\")\n",
    "    r12=pd.read_csv(r\"C:\\Users\\RACHIT\\Desktop\\ECG\\ecg_files\\txt_files\"+'\\\\'+(str(w+12))+\"annotations.csv\")\n",
    "    r13=pd.read_csv(r\"C:\\Users\\RACHIT\\Desktop\\ECG\\ecg_files\\txt_files\"+'\\\\'+(str(w+13))+\"annotations.csv\")\n",
    "    r14=pd.read_csv(r\"C:\\Users\\RACHIT\\Desktop\\ECG\\ecg_files\\txt_files\"+'\\\\'+(str(w+14))+\"annotations.csv\")\n",
    "    r15=pd.read_csv(r\"C:\\Users\\RACHIT\\Desktop\\ECG\\ecg_files\\txt_files\"+'\\\\'+(str(w+15))+\"annotations.csv\")\n",
    "    r16=pd.read_csv(r\"C:\\Users\\RACHIT\\Desktop\\ECG\\ecg_files\\txt_files\"+'\\\\'+(str(w+16))+\"annotations.csv\")\n",
    "    r17=pd.read_csv(r\"C:\\Users\\RACHIT\\Desktop\\ECG\\ecg_files\\txt_files\"+'\\\\'+(str(w+17))+\"annotations.csv\")\n",
    "    r18=pd.read_csv(r\"C:\\Users\\RACHIT\\Desktop\\ECG\\ecg_files\\txt_files\"+'\\\\'+(str(w+18))+\"annotations.csv\")\n",
    "    r19=pd.read_csv(r\"C:\\Users\\RACHIT\\Desktop\\ECG\\ecg_files\\txt_files\"+'\\\\'+(str(w+19))+\"annotations.csv\")\n",
    "    r20=pd.read_csv(r\"C:\\Users\\RACHIT\\Desktop\\ECG\\ecg_files\\txt_files\"+'\\\\'+(str(w+20))+\"annotations.csv\")\n",
    "    print((str(w))+'annotations.csv')\n",
    "    r=pd.concat([r0,r1,r2,r3,r4,r5,r6,r7,r8,r9,r10,r11,r12,r13,r14,r15,r16,r17,r18,r19,r20],axis=0)# concat all those files in one file\n",
    "    rac=StandardScaler() # data normalization\n",
    "    r.Sample=rac.fit_transform(r.Sample.values.reshape(-1, 1) )\n",
    "    for g in imp:\n",
    "        for h in g:\n",
    "            ft=r[(r.Type==h)]\n",
    "            data=pd.concat([data,ft],axis=0)\n",
    "        \n",
    "        xtrain=data.Sample\n",
    "        peaks =  biosppy.signals.ecg.christov_segmenter(signal=xtrain, sampling_rate = 200)[0] # To find the RPeaks of the each type of signal(N,NN)\n",
    "        print(g,'peaks are')\n",
    "        print(peaks)\n",
    "        pks.append(peaks)\n",
    "    \n",
    "        dt=dt+1\n",
    "        signals=[]\n",
    "        b=0\n",
    "        b1=[]\n",
    "        count = 1\n",
    "        for i in (peaks[1:-1]):\n",
    "            \n",
    "            diff1 = abs(peaks[count - 1] - i)# To convert those 1D Rpeaks to 2D RPeaks(image foramt)\n",
    "            diff2 = abs(peaks[count + 1]- i)#\n",
    "            x = peaks[count - 1] + diff1//2#\n",
    "            y = peaks[count + 1] - diff2//2#\n",
    "            signal = xtrain[x:y]\n",
    "            print(i)\n",
    "            print(signal)\n",
    "            fig = plt.figure(frameon=False)\n",
    "            #plt.figure()\n",
    "            plt.hist(signal) # plotting the histogram figure of the RPeaks of the signal\n",
    "            plt.xticks(np.arange(-2,3,1))\n",
    "            filename = r'C:\\Users\\RACHIT\\Desktop\\dspimg2'+'\\\\'+gt[dt]+'\\\\'+str(count)+'.png'\n",
    "            fig.savefig(filename)\n",
    "            im_gray = cv2.imread(filename, cv2.IMREAD_GRAYSCALE)# Data augmentation should always be done on gray scale images\n",
    "            im_gray = cv2.resize(im_gray, (64, 64), interpolation = cv2.INTER_LANCZOS4)\n",
    "            cv2.imwrite(filename, im_gray)  \n",
    "            cropping(im_gray, filename,ytrain,g)\n",
    "            ytrain.append(g)\n",
    "            rohancnt=rohancnt+1\n",
    "            \n",
    "        \n",
    "            signals.append(signal)\n",
    "            count += 1\n",
    "        \n",
    "       # print(signals)\n",
    "    #x=[i for i in range(len(signals[0]))]\n",
    "    #plt.scatter(x,signals[0])\n",
    "    #print(signals)\n",
    "    \n",
    "    #print(signals)\n",
    "    #for count, i in enumerate(signals):\n",
    "    #    fig = plt.figure(frameon=False)\n",
    "    #    plt.plot(i) \n",
    "    #    plt.xticks([]), plt.yticks([])\n",
    "    print(ytrain)\n",
    "    w=w+20"
   ]
  },
  {
   "cell_type": "markdown",
   "metadata": {},
   "source": [
    "## Here I have used VGG net Model to train my images using Keras"
   ]
  },
  {
   "cell_type": "code",
   "execution_count": 16,
   "metadata": {},
   "outputs": [
    {
     "name": "stdout",
     "output_type": "stream",
     "text": [
      "Found 550 images belonging to 2 classes.\n",
      "Epoch 1/4\n",
      "10/10 [==============================] - 6s 585ms/step - loss: 11.1597 - acc: 0.3000\n",
      "Epoch 2/4\n",
      "10/10 [==============================] - 2s 230ms/step - loss: 6.3770 - acc: 0.6000\n",
      "Epoch 3/4\n",
      "10/10 [==============================] - 2s 224ms/step - loss: 7.9712 - acc: 0.5000\n",
      "Epoch 4/4\n",
      "10/10 [==============================] - 2s 235ms/step - loss: 3.1885 - acc: 0.8000\n"
     ]
    },
    {
     "data": {
      "text/plain": [
       "<keras.callbacks.History at 0x75150cb320>"
      ]
     },
     "execution_count": 16,
     "metadata": {},
     "output_type": "execute_result"
    }
   ],
   "source": [
    "from keras.models import Sequential\n",
    "from keras.layers import Dense,Dropout\n",
    "import warnings\n",
    "from keras.wrappers.scikit_learn import KerasClassifier\n",
    "from sklearn.model_selection import cross_val_score\n",
    "from sklearn.model_selection import GridSearchCV\n",
    "from keras.preprocessing.image import ImageDataGenerator\n",
    "from keras.layers.convolutional import Conv2D\n",
    "from keras.layers.convolutional import MaxPooling2D\n",
    "from keras.layers.normalization import BatchNormalization\n",
    "from keras.layers import Flatten\n",
    "\n",
    "warnings.simplefilter('ignore')\n",
    "model = Sequential()\n",
    "model.add(Conv2D(64, (3,3),strides = (1,1), input_shape = (64,64,3),kernel_initializer='glorot_uniform'))\n",
    "#model.add(keras.layers.ELU())\n",
    "\n",
    "model.add(BatchNormalization())\n",
    "\n",
    "model.add(Conv2D(64, (3,3),strides = (1,1),kernel_initializer='glorot_uniform'))\n",
    "\n",
    "#model.add(keras.layers.ELU())\n",
    "\n",
    "model.add(BatchNormalization())\n",
    "\n",
    "model.add(MaxPooling2D(pool_size=(2, 2), strides= (2,2)))\n",
    "\n",
    "model.add(Conv2D(128, (3,3),strides = (1,1),kernel_initializer='glorot_uniform'))\n",
    "\n",
    "#model.add(keras.layers.ELU())\n",
    "\n",
    "model.add(BatchNormalization())\n",
    "\n",
    "model.add(Conv2D(128, (3,3),strides = (1,1),kernel_initializer='glorot_uniform'))\n",
    "\n",
    "#model.add(keras.layers.ELU())\n",
    "\n",
    "model.add(BatchNormalization())\n",
    "\n",
    "model.add(MaxPooling2D(pool_size=(2, 2), strides= (2,2)))\n",
    "\n",
    "model.add(Conv2D(256, (3,3),strides = (1,1),kernel_initializer='glorot_uniform'))\n",
    "\n",
    "#model.add(keras.layers.ELU())\n",
    "\n",
    "model.add(BatchNormalization())\n",
    "\n",
    "model.add(Conv2D(256, (3,3),strides = (1,1),kernel_initializer='glorot_uniform'))\n",
    "\n",
    "#model.add(keras.layers.ELU())\n",
    "\n",
    "model.add(BatchNormalization())\n",
    "\n",
    "model.add(MaxPooling2D(pool_size=(2, 2), strides= (2,2)))\n",
    "\n",
    "model.add(Flatten())\n",
    "\n",
    "model.add(Dense(2048))\n",
    "\n",
    "#model.add(keras.layers.ELU())\n",
    "\n",
    "model.add(BatchNormalization())\n",
    "\n",
    "model.add(Dropout(0.5))\n",
    "\n",
    "model.add(Dense(1, activation='softmax'))\n",
    "\n",
    "model.compile(loss='binary_crossentropy', optimizer='adam', metrics=['accuracy'])\n",
    "train_set=ImageDataGenerator(rescale=1./255,horizontal_flip=True,zoom_range=0.2,shear_range=0.2)\n",
    "train=train_set.flow_from_directory(r'C:\\Users\\RACHIT\\Desktop\\dspimg1',target_size=(64,64),batch_size=1,class_mode='binary')\n",
    "model.fit_generator(train,steps_per_epoch=10,epochs=4)"
   ]
  },
  {
   "cell_type": "markdown",
   "metadata": {},
   "source": [
    "## After doing 4 epochs on 64*64 size images with 10 steps per epoch I got a decent accuracy of 80%"
   ]
  },
  {
   "cell_type": "code",
   "execution_count": null,
   "metadata": {},
   "outputs": [],
   "source": []
  },
  {
   "cell_type": "code",
   "execution_count": null,
   "metadata": {},
   "outputs": [],
   "source": []
  },
  {
   "cell_type": "code",
   "execution_count": null,
   "metadata": {},
   "outputs": [],
   "source": []
  }
 ],
 "metadata": {
  "kernelspec": {
   "display_name": "Python 3",
   "language": "python",
   "name": "python3"
  },
  "language_info": {
   "codemirror_mode": {
    "name": "ipython",
    "version": 3
   },
   "file_extension": ".py",
   "mimetype": "text/x-python",
   "name": "python",
   "nbconvert_exporter": "python",
   "pygments_lexer": "ipython3",
   "version": "3.6.5"
  }
 },
 "nbformat": 4,
 "nbformat_minor": 2
}
